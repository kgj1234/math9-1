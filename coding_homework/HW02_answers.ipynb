{
 "cells": [
  {
   "cell_type": "code",
   "execution_count": 5,
   "metadata": {
    "collapsed": true
   },
   "outputs": [],
   "source": [
    "# Student ID: XXXXXXXX (please replace with your student ID)"
   ]
  },
  {
   "cell_type": "markdown",
   "metadata": {},
   "source": [
    "Please fill this notebook with your code (if necessary, remove `pass` after \"# your code here\"), execute all cells, save the notebook on your machine. Upload the notebook (the file whose filename extension is `.ipynb`) only. Do not upload the other files in this archive. Please upload to the [Math9 HW02 Dropbox](https://eee.uci.edu/toolbox/dropbox/) by the deadline indicated in the Dropbox. A primer on Dropbox is [here](https://eee.uci.edu/help/dropbox/instructors/_assets/dropbox_primer.pdf)."
   ]
  },
  {
   "cell_type": "markdown",
   "metadata": {},
   "source": [
    "# Problem 1 (interpreting code)\n",
    "\n",
    "Each of the following functions computes a mathematical function. Describe, in English, what each function is computing. Write your answer in a Markdown cell immediately after the corresponding code cell.\n",
    "\n"
   ]
  },
  {
   "cell_type": "markdown",
   "metadata": {},
   "source": [
    "### Example"
   ]
  },
  {
   "cell_type": "code",
   "execution_count": 6,
   "metadata": {
    "collapsed": true
   },
   "outputs": [],
   "source": [
    "def c(n):\n",
    "    return True if n % 2 == 0 else False"
   ]
  },
  {
   "cell_type": "markdown",
   "metadata": {},
   "source": [
    "Answer: this function decides whether its input, `n`, is even or odd. Returns `True` if even, `False` otherwise. "
   ]
  },
  {
   "cell_type": "markdown",
   "metadata": {},
   "source": [
    "Now try the following. To figure them out, you will probably need to choose input values (a.k.a. arguments) and simulate the running of the program in your head or on paper.  \n"
   ]
  },
  {
   "cell_type": "code",
   "execution_count": 7,
   "metadata": {
    "collapsed": true
   },
   "outputs": [],
   "source": [
    "def ff(n): \n",
    "    answer = 1\n",
    "    while n>1:\n",
    "        answer = answer * n \n",
    "        n= n - 1\n",
    "    return answer"
   ]
  },
  {
   "cell_type": "markdown",
   "metadata": {},
   "source": [
    "Answer: This is the factorial function."
   ]
  },
  {
   "cell_type": "code",
   "execution_count": 8,
   "metadata": {
    "collapsed": true
   },
   "outputs": [],
   "source": [
    "def function_1(n):\n",
    "    answer = 0\n",
    "    while n > 1:\n",
    "        n = n//2\n",
    "        answer = answer + 1\n",
    "    return answer"
   ]
  },
  {
   "cell_type": "markdown",
   "metadata": {},
   "source": [
    "Answer: this gives the largest power of 2 smaller than n"
   ]
  },
  {
   "cell_type": "code",
   "execution_count": 4,
   "metadata": {
    "collapsed": true
   },
   "outputs": [],
   "source": [
    "def g(x):   # we are assuming x>0\n",
    "    y = x\n",
    "    while y >= 1:\n",
    "        y = y - 1.0\n",
    "    return x - y"
   ]
  },
  {
   "cell_type": "markdown",
   "metadata": {},
   "source": [
    "Answer: this is the floor function. i.e. the largest integer before x."
   ]
  },
  {
   "cell_type": "code",
   "execution_count": 9,
   "metadata": {
    "collapsed": true
   },
   "outputs": [],
   "source": [
    "def h(n):\n",
    "    i = 2\n",
    "    while i<n:\n",
    "        if n % (i*i) == 0:\n",
    "            return True\n",
    "        i += 1\n",
    "    return False    "
   ]
  },
  {
   "cell_type": "markdown",
   "metadata": {},
   "source": [
    "Answer: this checks if n has a square in it, i.e., whether it has a factor which is a square or not"
   ]
  },
  {
   "cell_type": "markdown",
   "metadata": {},
   "source": [
    "# Problem 2 (Fizz Buzz)\n",
    "\n",
    "This is a little exercise that supposedly people used to get asked about as a warm-up in programming interviews. I am not sure if this is true, but the lore remains. If you go to a programming interview, and they asked you some basic programming exer- cises you would do in HW2 of your first programming class, you can say they asked you “FizzBuzz” type questions.\n",
    "\n",
    "Write a program that prints the numbers from 1 to 100. But for multiples of three print Fizz instead of the number and for the multiples of five print Buzz. For numbers which are multiples of both three and five print FizzBuzz."
   ]
  },
  {
   "cell_type": "code",
   "execution_count": 13,
   "metadata": {
    "scrolled": true
   },
   "outputs": [
    {
     "name": "stdout",
     "output_type": "stream",
     "text": [
      "1\n",
      "2\n",
      "Fizz\n",
      "4\n",
      "Buzz\n",
      "Fizz\n",
      "7\n",
      "8\n",
      "Fizz\n",
      "Buzz\n",
      "11\n",
      "Fizz\n",
      "13\n",
      "14\n",
      "FizzBuzz\n",
      "16\n",
      "17\n",
      "Fizz\n",
      "19\n",
      "Buzz\n",
      "Fizz\n",
      "22\n",
      "23\n",
      "Fizz\n",
      "Buzz\n",
      "26\n",
      "Fizz\n",
      "28\n",
      "29\n",
      "FizzBuzz\n",
      "31\n",
      "32\n",
      "Fizz\n",
      "34\n",
      "Buzz\n",
      "Fizz\n",
      "37\n",
      "38\n",
      "Fizz\n",
      "Buzz\n",
      "41\n",
      "Fizz\n",
      "43\n",
      "44\n",
      "FizzBuzz\n",
      "46\n",
      "47\n",
      "Fizz\n",
      "49\n",
      "Buzz\n",
      "Fizz\n",
      "52\n",
      "53\n",
      "Fizz\n",
      "Buzz\n",
      "56\n",
      "Fizz\n",
      "58\n",
      "59\n",
      "FizzBuzz\n",
      "61\n",
      "62\n",
      "Fizz\n",
      "64\n",
      "Buzz\n",
      "Fizz\n",
      "67\n",
      "68\n",
      "Fizz\n",
      "Buzz\n",
      "71\n",
      "Fizz\n",
      "73\n",
      "74\n",
      "FizzBuzz\n",
      "76\n",
      "77\n",
      "Fizz\n",
      "79\n",
      "Buzz\n",
      "Fizz\n",
      "82\n",
      "83\n",
      "Fizz\n",
      "Buzz\n",
      "86\n",
      "Fizz\n",
      "88\n",
      "89\n",
      "FizzBuzz\n",
      "91\n",
      "92\n",
      "Fizz\n",
      "94\n",
      "Buzz\n",
      "Fizz\n",
      "97\n",
      "98\n",
      "Fizz\n",
      "Buzz\n"
     ]
    }
   ],
   "source": [
    "i = 1\n",
    "while i <= 100:\n",
    "    if i % 15 == 0:\n",
    "        print \"FizzBuzz\"\n",
    "    elif i % 3 == 0:\n",
    "        print \"Fizz\"\n",
    "    elif i % 5 == 0:\n",
    "        print \"Buzz\"\n",
    "    else:\n",
    "        print i\n",
    "    i+=1"
   ]
  },
  {
   "cell_type": "markdown",
   "metadata": {},
   "source": [
    "# Problem 3 (Prime number theorem)\n",
    "\n",
    "The prime number theorem states that as $n$ becomes large, the number of prime numbers between $1$ and $n$ approaches $$\\frac{n}{\\log n},$$  where $\\log = \\log_e$ is the natural logarithm. \n",
    "\n",
    "Write a function `num_primes(n)`, that will give you\n",
    " the number of primes between 1 and n.\n",
    "Then, for $n = 10, 100, 1000, \\ldots , 10^6$, print out $\\frac{n}{\\log n}$ and `num_primes(n)`. Write down in Markdown what you observe about their relative values.\n"
   ]
  },
  {
   "cell_type": "code",
   "execution_count": 16,
   "metadata": {
    "collapsed": true
   },
   "outputs": [],
   "source": [
    "def isprime(n):\n",
    "    if n <= 1:\n",
    "        return False\n",
    "    d = 2\n",
    "    while d*d<=n:    \n",
    "        if n % d  == 0:\n",
    "            return False\n",
    "        d += 1\n",
    "    return True"
   ]
  },
  {
   "cell_type": "code",
   "execution_count": 17,
   "metadata": {
    "collapsed": true
   },
   "outputs": [],
   "source": [
    "def num_primes(n):\n",
    "    number = 0\n",
    "    i = 0\n",
    "    while i<=n:\n",
    "        if isprime(i):\n",
    "            number += 1\n",
    "        i += 1\n",
    "    return number"
   ]
  },
  {
   "cell_type": "code",
   "execution_count": 32,
   "metadata": {
    "scrolled": true
   },
   "outputs": [
    {
     "name": "stdout",
     "output_type": "stream",
     "text": [
      "n = 10   # primes (manual): 4   # primes (theory): 4.34294481903   ratio: 0.921034037198\n",
      "n = 100   # primes (manual): 25   # primes (theory): 21.7147240952   ratio: 1.1512925465\n",
      "n = 1000   # primes (manual): 168   # primes (theory): 144.764827301   ratio: 1.16050288687\n",
      "n = 10000   # primes (manual): 1229   # primes (theory): 1085.73620476   ratio: 1.13195083172\n",
      "n = 100000   # primes (manual): 9592   # primes (theory): 8685.88963807   ratio: 1.1043198106\n"
     ]
    }
   ],
   "source": [
    "import math # for the log function\n",
    "\n",
    "for i in range(1,6):\n",
    "    n = 10**i\n",
    "    number_primes_manual = num_primes(n)\n",
    "    number_primes_theory = n / math.log(n)\n",
    "    print \"n =\", n, \\\n",
    "    \"  # primes (manual):\", number_primes_manual, \\\n",
    "    \"  # primes (theory):\", number_primes_theory , \\\n",
    "    \"  ratio:\", number_primes_manual/number_primes_theory"
   ]
  },
  {
   "cell_type": "code",
   "execution_count": null,
   "metadata": {
    "collapsed": true
   },
   "outputs": [],
   "source": []
  }
 ],
 "metadata": {
  "kernelspec": {
   "display_name": "Python 2",
   "language": "python",
   "name": "python2"
  },
  "language_info": {
   "codemirror_mode": {
    "name": "ipython",
    "version": 2
   },
   "file_extension": ".py",
   "mimetype": "text/x-python",
   "name": "python",
   "nbconvert_exporter": "python",
   "pygments_lexer": "ipython2",
   "version": "2.7.14"
  }
 },
 "nbformat": 4,
 "nbformat_minor": 2
}
