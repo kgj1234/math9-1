{
 "cells": [
  {
   "cell_type": "code",
   "execution_count": 1,
   "metadata": {
    "collapsed": true
   },
   "outputs": [],
   "source": [
    "# Student ID: XXXXXXXX (please replace with your student ID)"
   ]
  },
  {
   "cell_type": "markdown",
   "metadata": {},
   "source": [
    "Please fill this notebook with your code (if necessary, remove `pass` after \"# your code here\"), execute all cells, save the notebook on your machine. Upload the notebook (the file whose filename extension is `.ipynb`) only. Do not upload the other files in this archive. Please upload to the [Math9 HW02 Dropbox](https://eee.uci.edu/toolbox/dropbox/) by the deadline indicated in the Dropbox. A primer on Dropbox is [here](https://eee.uci.edu/help/dropbox/instructors/_assets/dropbox_primer.pdf)."
   ]
  },
  {
   "cell_type": "markdown",
   "metadata": {},
   "source": [
    "# Problem 1 (interpreting code)\n",
    "\n",
    "Each of the following functions computes a mathematical function. Describe, in English, what each function is computing. Write your answer in a Markdown cell immediately after the corresponding code cell.\n",
    "\n"
   ]
  },
  {
   "cell_type": "markdown",
   "metadata": {},
   "source": [
    "### Example"
   ]
  },
  {
   "cell_type": "code",
   "execution_count": 2,
   "metadata": {
    "collapsed": true
   },
   "outputs": [],
   "source": [
    "def c(n):\n",
    "    return True if n % 2 == 0 else False"
   ]
  },
  {
   "cell_type": "markdown",
   "metadata": {},
   "source": [
    "Answer: this function decides whether its input, `n`, is even or odd. Returns `True` if even, `False` otherwise. "
   ]
  },
  {
   "cell_type": "markdown",
   "metadata": {},
   "source": [
    "Now try the following. To figure them out, you will probably need to choose input values (a.k.a. arguments) and simulate the running of the program in your head or on paper.  \n"
   ]
  },
  {
   "cell_type": "code",
   "execution_count": 3,
   "metadata": {
    "collapsed": true
   },
   "outputs": [],
   "source": [
    "def ff(n): \n",
    "    answer = 1\n",
    "    while n>1:\n",
    "        answer = answer * n \n",
    "        n= n - 1\n",
    "    return answer"
   ]
  },
  {
   "cell_type": "code",
   "execution_count": 4,
   "metadata": {
    "collapsed": true
   },
   "outputs": [],
   "source": [
    "def function_1(n):\n",
    "    answer = 0\n",
    "    while n > 1:\n",
    "        n = n//2\n",
    "        answer = answer + 1\n",
    "    return answer"
   ]
  },
  {
   "cell_type": "code",
   "execution_count": 5,
   "metadata": {
    "collapsed": true
   },
   "outputs": [],
   "source": [
    "def g(x):   # we are assuming x>0\n",
    "    y = x\n",
    "    while y >= 1:\n",
    "        y = y - 1.0\n",
    "    return x - y"
   ]
  },
  {
   "cell_type": "code",
   "execution_count": 6,
   "metadata": {
    "collapsed": true
   },
   "outputs": [],
   "source": [
    "def h(n):\n",
    "    i = 2\n",
    "    while i<n:\n",
    "        if n % (i*i) == 0:\n",
    "            return True\n",
    "        i += 1\n",
    "    return False    "
   ]
  },
  {
   "cell_type": "markdown",
   "metadata": {},
   "source": [
    "# Problem 2 (Fizz Buzz)\n",
    "\n",
    "This is a little exercise that supposedly people used to get asked about as a warm-up in programming interviews. I am not sure if this is true, but the lore remains. If you go to a programming interview, and they asked you some basic programming exer- cises you would do in HW2 of your first programming class, you can say they asked you “FizzBuzz” type questions.\n",
    "\n",
    "Write a program that prints the numbers from 1 to 100. But for multiples of three print Fizz instead of the number and for the multiples of five print Buzz. For numbers which are multiples of both three and five print FizzBuzz."
   ]
  },
  {
   "cell_type": "code",
   "execution_count": 7,
   "metadata": {
    "scrolled": true
   },
   "outputs": [],
   "source": [
    "# your code here"
   ]
  },
  {
   "cell_type": "markdown",
   "metadata": {},
   "source": [
    "# Problem 3 (Prime number theorem)\n",
    "\n",
    "The prime number theorem states that as $n$ becomes large, the number of prime numbers between $1$ and $n$ approaches $$\\frac{n}{\\log n},$$  where $\\log = \\log_e$ is the natural logarithm. \n",
    "\n",
    "Write a function `num_primes(n)`, that will give you\n",
    " the number of primes between 1 and n.\n",
    "Then, for $n = 10, 100, 1000, \\ldots , 10^6$, print out $\\frac{n}{\\log n}$ and `num_primes(n)`. Write down in Markdown what you observe about their relative values.\n"
   ]
  },
  {
   "cell_type": "code",
   "execution_count": 8,
   "metadata": {
    "collapsed": true
   },
   "outputs": [],
   "source": [
    "def isprime(n):\n",
    "    if n <= 1:\n",
    "        return False\n",
    "    d = 2\n",
    "    while d*d<=n:    \n",
    "        if n % d  == 0:\n",
    "            return False\n",
    "        d += 1\n",
    "    return True"
   ]
  },
  {
   "cell_type": "code",
   "execution_count": 9,
   "metadata": {},
   "outputs": [],
   "source": [
    "def num_primes(n):\n",
    "    # your code here \n",
    "    pass"
   ]
  },
  {
   "cell_type": "code",
   "execution_count": 10,
   "metadata": {
    "scrolled": true
   },
   "outputs": [],
   "source": [
    "import math # for the log function\n",
    "\n",
    "for i in range(1,6):\n",
    "    # your code here\n",
    "    pass"
   ]
  }
 ],
 "metadata": {
  "kernelspec": {
   "display_name": "Python 2",
   "language": "python",
   "name": "python2"
  },
  "language_info": {
   "codemirror_mode": {
    "name": "ipython",
    "version": 2
   },
   "file_extension": ".py",
   "mimetype": "text/x-python",
   "name": "python",
   "nbconvert_exporter": "python",
   "pygments_lexer": "ipython2",
   "version": "2.7.14"
  }
 },
 "nbformat": 4,
 "nbformat_minor": 2
}
