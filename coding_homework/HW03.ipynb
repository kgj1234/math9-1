{
 "cells": [
  {
   "cell_type": "code",
   "execution_count": 1,
   "metadata": {
    "collapsed": true
   },
   "outputs": [],
   "source": [
    "# Student name: \n",
    "# Student ID: "
   ]
  },
  {
   "cell_type": "markdown",
   "metadata": {},
   "source": [
    "Please fill this notebook with your code (if necessary, remove `pass` after \"# your code here\"), execute all cells, save the notebook on your machine. Upload the notebook (the file whose filename extension is `.ipynb`) only. Please upload to the [Math9 HW03 Dropbox](https://eee.uci.edu/toolbox/dropbox/) by the deadline indicated in the Dropbox. A primer on Dropbox is [here](https://eee.uci.edu/help/dropbox/instructors/_assets/dropbox_primer.pdf)."
   ]
  },
  {
   "cell_type": "markdown",
   "metadata": {},
   "source": [
    "## Problem 1 \n",
    "\n",
    "Using the `isprime(n)` function from lecture, write a function `primes_basic(m)` that returns a list of prime numbers between $1$ and $m$. \n",
    "\n"
   ]
  },
  {
   "cell_type": "markdown",
   "metadata": {},
   "source": [
    "### Solution"
   ]
  },
  {
   "cell_type": "code",
   "execution_count": 1,
   "metadata": {
    "collapsed": true
   },
   "outputs": [],
   "source": [
    "def isprime(n):\n",
    "    # your code here\n",
    "    pass \n",
    "\n",
    "def primes_basic(m):\n",
    "    # your code here\n",
    "    pass \n",
    "\n",
    "primes_basic(40)"
   ]
  },
  {
   "cell_type": "markdown",
   "metadata": {
    "collapsed": true
   },
   "source": [
    "## Problem 2 ([Sieve of Eratosthenes](https://en.wikipedia.org/wiki/Sieve_of_Eratosthenes))"
   ]
  },
  {
   "cell_type": "markdown",
   "metadata": {},
   "source": [
    "The Sieve of Eratosthenes is a method for producing primes more efficiently than the method in the preceding problem. Start with a list of numbers,\n",
    "\n",
    "\\begin{equation} \n",
    "2,3,4,5,6,7,8,9,10,11,12,13,14,15 \\ldots,m.\n",
    "\\end{equation}\n",
    "\n",
    "Eliminate all multiples of 2 (the first prime), excluding itself:\n",
    "\n",
    "\\begin{equation} \n",
    "2,3,(4),5,(6),7,(8),9,(10),11,(12),13,(14),15 \\ldots,m.\n",
    "\\end{equation}\n",
    "\n",
    "Eliminate all multiples of the number after 2, namely 3 (the next prime), excluding itself: \n",
    "\n",
    "\\begin{equation} \n",
    "2,3,(4),5,(6),7,(8),(9),(10),11,(12),13,(14),(15) \\ldots,m.\n",
    "\\end{equation}\n",
    "\n",
    "Eliminate all multiples of the number after 3, namely 5 (the next prime), excluding itself:\n",
    "\n",
    "\\begin{equation} \n",
    "2,3,(4),5,(6),7,(8),(9),(10),11,(12),13,(14),(15) \\ldots,m.\n",
    "\\end{equation}\n",
    "\n",
    "Repeat until there are no numbers to eliminate. \n",
    "The remaining numbers are the prime numbers.\n",
    "\n",
    "Define a function `primes_sieve(m)`\n",
    "that implements the Sieve of Eratosthenes using Python lists and that returns a list of prime numbers between $1$ and $m$.\n",
    "\n"
   ]
  },
  {
   "cell_type": "markdown",
   "metadata": {},
   "source": [
    "### Optional note: \n",
    "\n",
    "In class we spoke about algorithm complexity -- how long it is expected to take for an algorithm to complete. For those who are curious, the Sieve of Eratosthenes is an $O(n\\log n)$ algorithm: see [ShreevatsaR' answer](https://stackoverflow.com/questions/2582732/time-complexity-of-sieve-of-eratosthenes-algorithm)"
   ]
  },
  {
   "cell_type": "markdown",
   "metadata": {},
   "source": [
    "### Hint \n",
    "\n",
    "One thing you may (or may not) find useful is to create a list like this:"
   ]
  },
  {
   "cell_type": "code",
   "execution_count": 71,
   "metadata": {},
   "outputs": [
    {
     "data": {
      "text/plain": [
       "[True, True, True, True, True, True, True, True, True, True]"
      ]
     },
     "execution_count": 71,
     "metadata": {},
     "output_type": "execute_result"
    }
   ],
   "source": [
    "is_prime = 10*[True]\n",
    "is_prime"
   ]
  },
  {
   "cell_type": "markdown",
   "metadata": {},
   "source": [
    "### Solution"
   ]
  },
  {
   "cell_type": "code",
   "execution_count": 2,
   "metadata": {
    "collapsed": true
   },
   "outputs": [],
   "source": [
    "def primes_sieve(m):\n",
    "    # your code here\n",
    "    pass \n",
    "\n",
    "primes_sieve(40)"
   ]
  },
  {
   "cell_type": "markdown",
   "metadata": {},
   "source": [
    "## Problem 3 (lists)\n",
    "\n",
    "Produce the following lists in Python. Use list comprehension, list comprehension with if (`[blah for i in some list if some_condition]`), list concatenation, `m*list`, etc. Try not to use `for` or `while` loops. \n",
    "\n",
    "Write your solution in a code cell under the corresponding markdown cell. \n",
    "\n",
    "\n",
    "\n"
   ]
  },
  {
   "cell_type": "markdown",
   "metadata": {},
   "source": [
    "* `[1,3,5,7,..,51]`"
   ]
  },
  {
   "cell_type": "markdown",
   "metadata": {},
   "source": [
    "* `[21,23,25,27,..,51]`"
   ]
  },
  {
   "cell_type": "markdown",
   "metadata": {},
   "source": [
    "* `[1,2,4,8,16,.., 1048576]`"
   ]
  },
  {
   "cell_type": "markdown",
   "metadata": {},
   "source": [
    "* `[1,-1,1,-1,..,1,-1] (length 20)`"
   ]
  },
  {
   "cell_type": "markdown",
   "metadata": {},
   "source": [
    "* `[0,1,1,1,..,1] (length 20)`"
   ]
  },
  {
   "cell_type": "markdown",
   "metadata": {},
   "source": [
    "* `[1,0,1,0,0,1,0,0,0,1,0,0,0,0,1,0,0,0,0,0,1,..] (length 100)` Looping might be easier for this one, but can you do it with only one loop? Hint: use `list.extend()`"
   ]
  },
  {
   "cell_type": "markdown",
   "metadata": {},
   "source": [
    "# Problem 4 (list functions)\n",
    "\n",
    "For each of the following, write the described function in a code cell underneath the markdown cell. Please pay attention to the description of the function, some of them say to return a new list, which means that your function shouldn’t modify `xs`, but should make a fresh list and return that; others (e.g. `reverse`) ask you to modify `xs` (these should return `xs` anyway). Check each function on at least two examples."
   ]
  },
  {
   "cell_type": "markdown",
   "metadata": {},
   "source": [
    "`kth_from_last(xs,k)`. Returns the kth from last element of `xs`. \n",
    "* `f([1,2,3,4], 1)` should return `4`. \n",
    "* `f([1,2,3,4], 3)` should return `2`"
   ]
  },
  {
   "cell_type": "markdown",
   "metadata": {},
   "source": [
    "`damean(xs)`. Returns the mean (average) of the elements of `xs`. \n",
    "* `damean([1,2,3,4])` should return 2.5\n",
    "\n",
    "NOTE: write `1/2.0` not `1/2`. The latter is integer arithmetic in `Python 2`"
   ]
  },
  {
   "cell_type": "markdown",
   "metadata": {},
   "source": [
    "`appears(xs,ys)` returns the number of times `ys` appears in `xs` as a subsequence. \n",
    "* `appears([1,2,3,4,1,1,2,1], [1,2])` should return 2"
   ]
  },
  {
   "cell_type": "markdown",
   "metadata": {},
   "source": [
    "`reverse(xs)`, reverses the order of the elements of `xs` and returns `xs`. [Hint: use `swap`]\n",
    "\n",
    "* if `xs = [1,2,3,4]`, then `reverse(xs)` should return `[4,3,2,1]`,\n",
    "and afterwards, if we print `xs`, we should see `[4,3,2,1]`."
   ]
  }
 ],
 "metadata": {
  "kernelspec": {
   "display_name": "Python 2",
   "language": "python",
   "name": "python2"
  },
  "language_info": {
   "codemirror_mode": {
    "name": "ipython",
    "version": 2
   },
   "file_extension": ".py",
   "mimetype": "text/x-python",
   "name": "python",
   "nbconvert_exporter": "python",
   "pygments_lexer": "ipython2",
   "version": "2.7.14"
  }
 },
 "nbformat": 4,
 "nbformat_minor": 2
}
