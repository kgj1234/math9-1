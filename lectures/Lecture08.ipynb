{
 "cells": [
  {
   "cell_type": "markdown",
   "metadata": {},
   "source": [
    "# Today: \n",
    "* List review\n",
    "* List comprehension\n",
    "* Mutable vs immutable objects in Python"
   ]
  },
  {
   "cell_type": "markdown",
   "metadata": {},
   "source": [
    "Last time, we taked about how to make and use lists. Some highlights from last time: "
   ]
  },
  {
   "cell_type": "code",
   "execution_count": 1,
   "metadata": {},
   "outputs": [
    {
     "name": "stdout",
     "output_type": "stream",
     "text": [
      "[1, 2, 4, 1, 5, 'hello']\n"
     ]
    }
   ],
   "source": [
    "# defining lists:\n",
    "xs = [1,2,4,1,5,\"hello\"]\n",
    "print xs"
   ]
  },
  {
   "cell_type": "code",
   "execution_count": 2,
   "metadata": {
    "scrolled": true
   },
   "outputs": [
    {
     "name": "stdout",
     "output_type": "stream",
     "text": [
      "[1, 2, 4, 1, 5, 'hello']\n",
      "[999, 2, 4, 1, 5, 'hello']\n"
     ]
    }
   ],
   "source": [
    "# changing elements:\n",
    "xs = [1,2,4,1,5,\"hello\"]\n",
    "print xs\n",
    "xs[0] = 999\n",
    "print xs"
   ]
  },
  {
   "cell_type": "code",
   "execution_count": 3,
   "metadata": {},
   "outputs": [
    {
     "name": "stdout",
     "output_type": "stream",
     "text": [
      "the first element of the list is: 999\n",
      "the last element of the list is: hello\n"
     ]
    }
   ],
   "source": [
    "# acccessing elements\n",
    "print \"the first element of the list is:\", xs[0]\n",
    "print \"the last element of the list is:\", xs[-1]"
   ]
  },
  {
   "cell_type": "code",
   "execution_count": 4,
   "metadata": {},
   "outputs": [
    {
     "name": "stdout",
     "output_type": "stream",
     "text": [
      "the length of the list is: 6\n"
     ]
    }
   ],
   "source": [
    "# length of list\n",
    "print \"the length of the list is:\", len(xs)"
   ]
  },
  {
   "cell_type": "code",
   "execution_count": 5,
   "metadata": {},
   "outputs": [
    {
     "name": "stdout",
     "output_type": "stream",
     "text": [
      "[999, 2, 4, 1, 5, 'hello']\n",
      "[999, 2, 4, 1, 5, 'hello', 'goodbye']\n"
     ]
    }
   ],
   "source": [
    "# adding a new element to a list:\n",
    "print xs\n",
    "xs.append(\"goodbye\")\n",
    "print xs"
   ]
  },
  {
   "cell_type": "code",
   "execution_count": 6,
   "metadata": {},
   "outputs": [
    {
     "name": "stdout",
     "output_type": "stream",
     "text": [
      "xs =  [1, 2, 3, 4]\n",
      "[1, 2, 3, 4, 'hello', 'goodbye']\n",
      "but xs is still: [1, 2, 3, 4]\n"
     ]
    }
   ],
   "source": [
    "# concatenating lists using +\n",
    "xs = [1,2,3,4]\n",
    "print 'xs = ', xs\n",
    "print xs + [\"hello\", \"goodbye\"]\n",
    "print \"but xs is still:\", xs"
   ]
  },
  {
   "cell_type": "code",
   "execution_count": 7,
   "metadata": {},
   "outputs": [
    {
     "name": "stdout",
     "output_type": "stream",
     "text": [
      "[1, 2, 3, 4]\n",
      "[1, 2, 3, 4, 'hello', 'goodbye']\n"
     ]
    }
   ],
   "source": [
    "# We could do:\n",
    "print xs\n",
    "xs = xs + [\"hello\", \"goodbye\"]\n",
    "print xs "
   ]
  },
  {
   "cell_type": "code",
   "execution_count": 8,
   "metadata": {},
   "outputs": [
    {
     "name": "stdout",
     "output_type": "stream",
     "text": [
      "[1, 2, 3, 4]\n",
      "[1, 2, 3, 4, 'hello', 'goodbye']\n"
     ]
    }
   ],
   "source": [
    "# alternatively, we can use extend\n",
    "xs = [1,2,3,4]\n",
    "print xs\n",
    "xs.extend([\"hello\", \"goodbye\"])\n",
    "print xs"
   ]
  },
  {
   "cell_type": "code",
   "execution_count": 9,
   "metadata": {},
   "outputs": [
    {
     "data": {
      "text/plain": [
       "[0, 1, 2, 3, 4, 5, 6, 7, 8, 9]"
      ]
     },
     "execution_count": 9,
     "metadata": {},
     "output_type": "execute_result"
    }
   ],
   "source": [
    "# range\n",
    "range(10)"
   ]
  },
  {
   "cell_type": "code",
   "execution_count": 10,
   "metadata": {},
   "outputs": [
    {
     "data": {
      "text/plain": [
       "[5, 6, 7, 8, 9]"
      ]
     },
     "execution_count": 10,
     "metadata": {},
     "output_type": "execute_result"
    }
   ],
   "source": [
    "range(5,10)"
   ]
  },
  {
   "cell_type": "code",
   "execution_count": 11,
   "metadata": {},
   "outputs": [
    {
     "data": {
      "text/plain": [
       "[5, 8, 11, 14, 17]"
      ]
     },
     "execution_count": 11,
     "metadata": {},
     "output_type": "execute_result"
    }
   ],
   "source": [
    "range(5, 20, 3)"
   ]
  },
  {
   "cell_type": "code",
   "execution_count": 12,
   "metadata": {},
   "outputs": [
    {
     "name": "stdout",
     "output_type": "stream",
     "text": [
      "0\n",
      "1\n",
      "2\n",
      "3\n",
      "4\n",
      "5\n",
      "6\n",
      "7\n",
      "8\n",
      "9\n"
     ]
    }
   ],
   "source": [
    "# looping over a list using for\n",
    "for i in range(10):\n",
    "    print(i)"
   ]
  },
  {
   "cell_type": "markdown",
   "metadata": {},
   "source": [
    "# List comprehension\n",
    "\n",
    "In math, we use the following notation a lot when defining sets:\n",
    "$$ X = \\{ 2n  \\,\\, | \\,\\, n \\in \\mathbb{Z} \\}$$\n",
    "$X$ would be the set of even numbers. Similarly, we can define lists from other lists in Python. \n",
    "\n",
    "In the tradition of naming things with words that ordinary people can't understand, this is called **list comprehension**."
   ]
  },
  {
   "cell_type": "code",
   "execution_count": 13,
   "metadata": {},
   "outputs": [
    {
     "name": "stdout",
     "output_type": "stream",
     "text": [
      "[0, 2, 4, 6, 8, 10, 12, 14, 16, 18]\n"
     ]
    }
   ],
   "source": [
    "evens = [2*n for n in range(10)]\n",
    "print evens"
   ]
  },
  {
   "cell_type": "code",
   "execution_count": 14,
   "metadata": {},
   "outputs": [
    {
     "name": "stdout",
     "output_type": "stream",
     "text": [
      "[1, 3, 5, 7, 9, 11, 13, 15, 17, 19]\n"
     ]
    }
   ],
   "source": [
    "odds = [n+1 for n in evens]\n",
    "print odds"
   ]
  },
  {
   "cell_type": "code",
   "execution_count": 15,
   "metadata": {},
   "outputs": [
    {
     "data": {
      "text/plain": [
       "[2,\n",
       " 4,\n",
       " 16,\n",
       " 256,\n",
       " 65536,\n",
       " 4294967296,\n",
       " 18446744073709551616L,\n",
       " 340282366920938463463374607431768211456L,\n",
       " 115792089237316195423570985008687907853269984665640564039457584007913129639936L,\n",
       " 13407807929942597099574024998205846127479365820592393377723561443721764030073546976801874298166903427690031858186486050853753882811946569946433649006084096L]"
      ]
     },
     "execution_count": 15,
     "metadata": {},
     "output_type": "execute_result"
    }
   ],
   "source": [
    "[ 2**(2**n) for n in range(10) ]"
   ]
  },
  {
   "cell_type": "markdown",
   "metadata": {},
   "source": [
    "# Mutable vs Immutable types in Python"
   ]
  },
  {
   "cell_type": "markdown",
   "metadata": {},
   "source": [
    "This is something technical about how Python works but the technicality is very important."
   ]
  },
  {
   "cell_type": "code",
   "execution_count": 33,
   "metadata": {},
   "outputs": [
    {
     "name": "stdout",
     "output_type": "stream",
     "text": [
      "1\n"
     ]
    }
   ],
   "source": [
    "# guess what will happen\n",
    "x = 1\n",
    "print x"
   ]
  },
  {
   "cell_type": "code",
   "execution_count": 34,
   "metadata": {},
   "outputs": [
    {
     "name": "stdout",
     "output_type": "stream",
     "text": [
      "1 2\n"
     ]
    }
   ],
   "source": [
    "# guess what will happen\n",
    "y = x\n",
    "x += 1\n",
    "print y, x"
   ]
  },
  {
   "cell_type": "markdown",
   "metadata": {},
   "source": [
    "Even though we said `y=x`, and then changed `x`, the value of `y` didn't change. "
   ]
  },
  {
   "cell_type": "code",
   "execution_count": 36,
   "metadata": {},
   "outputs": [
    {
     "name": "stdout",
     "output_type": "stream",
     "text": [
      "[999, 2, 3, 4]\n"
     ]
    }
   ],
   "source": [
    "# Let's try the same with lists\n",
    "x = [1,2,3,4]\n",
    "y = x\n",
    "x[0] = 999\n",
    "print y"
   ]
  },
  {
   "cell_type": "markdown",
   "metadata": {},
   "source": [
    "What is going on? We saw one behaviour for numbers, and a totally different behaviour for lists.\n",
    "\n",
    "This is because numbers are **immutable** whereas lists are **mutable**.\n",
    "\n",
    "More concretely, when we say `x=1`, in the memory of the computer, a location (object) is created that stores the number `1`. A separate location, which corresponds to `x` is also created, but that location does not contain `1`. Instead, the location for `x` contains the address of the location in memory where `1` is stored. We can think of `x` as a *pointer* to the actual place in memory where `1` is stored. `y` also points to `1`. \n",
    "\n"
   ]
  },
  {
   "cell_type": "code",
   "execution_count": 28,
   "metadata": {},
   "outputs": [
    {
     "name": "stdout",
     "output_type": "stream",
     "text": [
      "140398701880136\n",
      "140398701880136\n"
     ]
    }
   ],
   "source": [
    "x = 1\n",
    "y = x\n",
    "print id(x)\n",
    "print id(y)"
   ]
  },
  {
   "cell_type": "markdown",
   "metadata": {},
   "source": [
    "However, when some arithmetic is done on `x`, the result is stored in a new place in memory, to which `x`, but not `y`, points. In other words, you cannot mutate the object `1`. "
   ]
  },
  {
   "cell_type": "code",
   "execution_count": 30,
   "metadata": {},
   "outputs": [
    {
     "name": "stdout",
     "output_type": "stream",
     "text": [
      "140398701880088\n",
      "140398701880136\n"
     ]
    }
   ],
   "source": [
    "x += 1 \n",
    "print id(x)\n",
    "print id(y)"
   ]
  },
  {
   "cell_type": "markdown",
   "metadata": {},
   "source": [
    "On the other hand, when we do something to a list, it is modified in-place (mutated), so that any identifiers (such as `x` and `y`) that were pointing to it, continue to do so. \n",
    "\n",
    "Now, when we put `x = [1,2,3,4]` and then `y=x`, the address in memory that y refers to is changed to the address in memory that x refers to. So `x` and `y` point to the same `[1,2,3,4]` in memory. This means that if we then change `x[0]`, this will also change `y[0]`."
   ]
  },
  {
   "cell_type": "code",
   "execution_count": 32,
   "metadata": {},
   "outputs": [
    {
     "name": "stdout",
     "output_type": "stream",
     "text": [
      "4535645752\n",
      "4535645752\n"
     ]
    }
   ],
   "source": [
    "x = [1,2,3,4]\n",
    "y = x\n",
    "print id(x)\n",
    "print id(y)"
   ]
  },
  {
   "cell_type": "code",
   "execution_count": 37,
   "metadata": {},
   "outputs": [
    {
     "name": "stdout",
     "output_type": "stream",
     "text": [
      "4537936496\n",
      "4537936496\n"
     ]
    }
   ],
   "source": [
    "x[0] = 999\n",
    "print id(x)\n",
    "print id(y)"
   ]
  },
  {
   "cell_type": "code",
   "execution_count": 38,
   "metadata": {},
   "outputs": [
    {
     "name": "stdout",
     "output_type": "stream",
     "text": [
      "[999, 2, 3, 4]\n",
      "[999, 2, 3, 4]\n"
     ]
    }
   ],
   "source": [
    "print x\n",
    "print y"
   ]
  },
  {
   "cell_type": "markdown",
   "metadata": {},
   "source": [
    "### Mutable objects as function arguments"
   ]
  },
  {
   "cell_type": "code",
   "execution_count": 20,
   "metadata": {},
   "outputs": [
    {
     "data": {
      "text/plain": [
       "2"
      ]
     },
     "execution_count": 20,
     "metadata": {},
     "output_type": "execute_result"
    }
   ],
   "source": [
    "# what will happen?\n",
    "def f(a):\n",
    "    a += a\n",
    "    return a\n",
    "\n",
    "x = 1\n",
    "f(x)"
   ]
  },
  {
   "cell_type": "code",
   "execution_count": 21,
   "metadata": {
    "scrolled": true
   },
   "outputs": [
    {
     "name": "stdout",
     "output_type": "stream",
     "text": [
      "1\n"
     ]
    }
   ],
   "source": [
    "print(x)"
   ]
  },
  {
   "cell_type": "markdown",
   "metadata": {},
   "source": [
    "The value of `x` didn't change because `a` was a local variable inside the function. \n",
    "\n",
    "Let's try the same with lists:"
   ]
  },
  {
   "cell_type": "code",
   "execution_count": 22,
   "metadata": {},
   "outputs": [
    {
     "data": {
      "text/plain": [
       "[1, 2, 3, 4, 1, 2, 3, 4]"
      ]
     },
     "execution_count": 22,
     "metadata": {},
     "output_type": "execute_result"
    }
   ],
   "source": [
    "# what will happen?\n",
    "def f(a):\n",
    "    a += a\n",
    "    return a\n",
    "\n",
    "x = [1,2,3,4]\n",
    "f(x)"
   ]
  },
  {
   "cell_type": "code",
   "execution_count": 23,
   "metadata": {},
   "outputs": [
    {
     "data": {
      "text/plain": [
       "[1, 2, 3, 4, 1, 2, 3, 4]"
      ]
     },
     "execution_count": 23,
     "metadata": {},
     "output_type": "execute_result"
    }
   ],
   "source": [
    "x"
   ]
  },
  {
   "cell_type": "markdown",
   "metadata": {},
   "source": [
    "The value of x did change!!! This was because `x` was a list and lists are mutable. Which meant that when `x` was copied to `a` in the function, `a` now pointed to the exact same memory location as `x`, and therefore changing `a` amounts to changing `x`. \n",
    "\n",
    "This behavior can actually be a good thing: it means that we can manipulate a list inside a function. In the homework, you will be asked to write a function that will reverse a list for example. You will just call `reverse(x)` and the list referred to by `x` will be reversed. "
   ]
  },
  {
   "cell_type": "markdown",
   "metadata": {},
   "source": [
    "So what if `x = [1,2,3,4]` and we really want a copy of `[1,2,3,4]` that will be different? Easy:"
   ]
  },
  {
   "cell_type": "code",
   "execution_count": 24,
   "metadata": {
    "scrolled": true
   },
   "outputs": [
    {
     "name": "stdout",
     "output_type": "stream",
     "text": [
      "[1, 2, 3, 4] [1, 2, 3, 4]\n",
      "[999, 2, 3, 4] [1, 2, 3, 4]\n"
     ]
    }
   ],
   "source": [
    "import copy\n",
    "x = [1,2,3,4]\n",
    "y = copy.copy(x)\n",
    "print x, y\n",
    "x[0] = 999\n",
    "print x, y"
   ]
  },
  {
   "cell_type": "markdown",
   "metadata": {},
   "source": [
    "As expected, `y` didn't change because it was a fresh copy, held at a different place in memory. \n",
    "\n",
    "### Mutable:\n",
    "* Lists\n",
    "* Tuples (later)\n",
    "* Dictionaries (later)\n",
    "* Numpy arrays (later)\n",
    "\n",
    "### Immutable:\n",
    "* Integers, floats, \n",
    "* bools\n",
    "* Strings"
   ]
  }
 ],
 "metadata": {
  "kernelspec": {
   "display_name": "Python 2",
   "language": "python",
   "name": "python2"
  },
  "language_info": {
   "codemirror_mode": {
    "name": "ipython",
    "version": 2
   },
   "file_extension": ".py",
   "mimetype": "text/x-python",
   "name": "python",
   "nbconvert_exporter": "python",
   "pygments_lexer": "ipython2",
   "version": "2.7.14"
  }
 },
 "nbformat": 4,
 "nbformat_minor": 2
}
