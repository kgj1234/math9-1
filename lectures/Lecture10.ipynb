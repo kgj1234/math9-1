{
 "cells": [
  {
   "cell_type": "markdown",
   "metadata": {},
   "source": [
    "# Last time: \n",
    "* review of mutable vs immutable, plus some more funny stuff\n",
    "* selection sorting\n",
    "\n",
    "# Today\n",
    "* making our selection sort code better\n",
    "* algorithm complexity"
   ]
  },
  {
   "cell_type": "markdown",
   "metadata": {},
   "source": [
    "# Selection Sort revisited\n",
    "\n",
    "We want to write a function that will sort a list of numbers:\n",
    "\n",
    "e.g. we want `sort([2,15,-1,8,7])` \n",
    "to return `[15,8,7,2,-1]`\n",
    "\n",
    "Idea for algorithm:\n",
    "Move the maximum element to the front of the list, then move the maximum of the rest to the front of the rest, ...\n",
    "\n",
    "Pseudo-code first level:\n",
    "```\n",
    "N = length of input list, xs\n",
    "for i=0,...,N-1\n",
    "    mloc = the location of the maximum of xs from i to N-1\n",
    "    swap xs[mloc] and xs[i]\n",
    "```\n",
    "\n",
    "Let us begin by coding up `location of the maximum of xs from i to N-1`:\n",
    "    "
   ]
  },
  {
   "cell_type": "code",
   "execution_count": 5,
   "metadata": {},
   "outputs": [],
   "source": [
    "def argmax(xs, start, end):  \n",
    "    '''returns the index of the max of a sub-list'''\n",
    "\n",
    "    current_max = xs[start]\n",
    "    current_max_location = start\n",
    "    for i in range(start, end):\n",
    "        if current_max < xs[i]:\n",
    "            current_max = xs[i]\n",
    "            current_max_location = i\n",
    "    return current_max_location "
   ]
  },
  {
   "cell_type": "code",
   "execution_count": 8,
   "metadata": {},
   "outputs": [
    {
     "data": {
      "text/plain": [
       "4"
      ]
     },
     "execution_count": 8,
     "metadata": {},
     "output_type": "execute_result"
    }
   ],
   "source": [
    "argmax([1,2,3,4,5],0,5)"
   ]
  },
  {
   "cell_type": "code",
   "execution_count": 6,
   "metadata": {},
   "outputs": [
    {
     "data": {
      "text/plain": [
       "0"
      ]
     },
     "execution_count": 6,
     "metadata": {},
     "output_type": "execute_result"
    }
   ],
   "source": [
    "argmax([6,2,3,4,5],0,2)"
   ]
  },
  {
   "cell_type": "code",
   "execution_count": 7,
   "metadata": {},
   "outputs": [
    {
     "data": {
      "text/plain": [
       "2"
      ]
     },
     "execution_count": 7,
     "metadata": {},
     "output_type": "execute_result"
    }
   ],
   "source": [
    "argmax([6,2,3,4,5],2,3)"
   ]
  },
  {
   "cell_type": "markdown",
   "metadata": {},
   "source": [
    "During the sorting, we'll also need to swap things. Let's make that into a function too:"
   ]
  },
  {
   "cell_type": "code",
   "execution_count": 9,
   "metadata": {},
   "outputs": [
    {
     "name": "stdout",
     "output_type": "stream",
     "text": [
      "[2, 1, 3]\n"
     ]
    }
   ],
   "source": [
    "# note that this swaps *in place*\n",
    "def swap(xs, i, j):\n",
    "    dum = xs[i]\n",
    "    xs[i] = xs[j]\n",
    "    xs[j] = dum\n",
    "    \n",
    "# let's test:\n",
    "xs = [1,2,3]\n",
    "swap(xs,0,1)\n",
    "print xs"
   ]
  },
  {
   "cell_type": "markdown",
   "metadata": {},
   "source": [
    "Finally, we are ready to implement selection sort:"
   ]
  },
  {
   "cell_type": "code",
   "execution_count": 11,
   "metadata": {},
   "outputs": [
    {
     "data": {
      "text/plain": [
       "[15, 8, 7, 2, -1]"
      ]
     },
     "execution_count": 11,
     "metadata": {},
     "output_type": "execute_result"
    }
   ],
   "source": [
    "def sort(xs):\n",
    "    N = len(xs)\n",
    "    for i in range(N):\n",
    "        swap(xs, argmax(xs,i,N), i)\n",
    "    return xs\n",
    "\n",
    "sort([2,15,-1,8,7])"
   ]
  },
  {
   "cell_type": "markdown",
   "metadata": {},
   "source": [
    "Note that we could have written the same algorithm in one go like this:"
   ]
  },
  {
   "cell_type": "code",
   "execution_count": 13,
   "metadata": {},
   "outputs": [
    {
     "data": {
      "text/plain": [
       "[15, 8, 7, 2, -1]"
      ]
     },
     "execution_count": 13,
     "metadata": {},
     "output_type": "execute_result"
    }
   ],
   "source": [
    "def sort_difficult_to_read_and_debug(xs):\n",
    "    N = len(xs)\n",
    "    for i in range(N):\n",
    "        current_max = xs[i]\n",
    "        current_max_location = i\n",
    "        for j in range(i, N):\n",
    "            if current_max < xs[j]:\n",
    "                current_max = xs[j]\n",
    "                current_max_location = j\n",
    "        dum = xs[i]\n",
    "        xs[i] = xs[current_max_location]\n",
    "        xs[current_max_location] = dum\n",
    "    return xs\n",
    "\n",
    "sort_difficult_to_read_and_debug([2, 15 ,-1 ,8 ,7])"
   ]
  },
  {
   "cell_type": "markdown",
   "metadata": {},
   "source": [
    "But it is harder to read, and more importantly, there are no parts (functions) that you can test independently to make sure they are ok. So it's better to break the problem down to smaller parts (functions). "
   ]
  },
  {
   "cell_type": "markdown",
   "metadata": {},
   "source": [
    "### Improvements to our implementation\n",
    "\n",
    "* We have implemented `argmax` such that it can operate on a sub-list of its input list. An alternative, that is slightly more readable, is to pass the sub-list directly to `argmax` and have it operate on the whole sub-list. The trade-off is that we then need to correct the index that `argmax` returns. \n",
    "\n",
    "* Again in `argmax`, when we cycle through the list, we keep track only of the index in the list, which we then use to find the corresponding element of the list. We can eliminate this extra step of indexing into the list via the syntax `for i,x in enumerate(xs):`, which tracks *both* the elements and their indices. \n",
    "\n"
   ]
  },
  {
   "cell_type": "code",
   "execution_count": 19,
   "metadata": {
    "collapsed": true
   },
   "outputs": [],
   "source": [
    "def argmax(xs):  \n",
    "    # notice the function signature has been simplified\n",
    "    # the signature of the function is now 'argmax(xs)'\n",
    "    # previously it was 'argmax(xs, start, end)'\n",
    "    '''returns the index of the max of a sub-list'''\n",
    "\n",
    "    current_max = xs[0]\n",
    "    current_max_location = 0\n",
    "    # use enumerate to cycle through i and xs[i] at the same time\n",
    "    for i, x in enumerate(xs):   \n",
    "        if current_max < x:\n",
    "            current_max = x\n",
    "            current_max_location = i\n",
    "    return current_max_location \n"
   ]
  },
  {
   "cell_type": "markdown",
   "metadata": {},
   "source": [
    "In `sort`, we need to pass the sublist of `xs` that starts at index `i`. How do we do this? \n",
    "\n",
    "Python **slicing** to the rescue! Recall that the syntax `xs[i:j]` fetches the sublist of `xs` from the index on the left to the index on the right. \n",
    "\n",
    "Here are some examples to remind you:\n",
    "\n"
   ]
  },
  {
   "cell_type": "code",
   "execution_count": 41,
   "metadata": {},
   "outputs": [
    {
     "name": "stdout",
     "output_type": "stream",
     "text": [
      "the element at index 2 is:   3\n",
      "the sublist from indices 2 (included) to 4 (not included) is:   [3, 4]\n",
      "the part up to index 2 (not included) is:   [1, 2]\n",
      "the part starting from index 2 (included) is:   [3, 4, 5, 6, 7]\n"
     ]
    }
   ],
   "source": [
    "xs = [1,2,3,4,5,6,7]\n",
    "print \"the element at index 2 is:  \", xs[2]\n",
    "print \"the sublist from indices 2 (included) to 4 (not included) is:  \", xs[2:4]\n",
    "print \"the part up to index 2 (not included) is:  \", xs[:2]\n",
    "print \"the part starting from index 2 (included) is:  \", xs[2:]\n"
   ]
  },
  {
   "cell_type": "markdown",
   "metadata": {},
   "source": [
    "Let's set up a list and a sublist of it:"
   ]
  },
  {
   "cell_type": "code",
   "execution_count": 32,
   "metadata": {},
   "outputs": [
    {
     "data": {
      "text/plain": [
       "[6, 4, 1]"
      ]
     },
     "execution_count": 32,
     "metadata": {},
     "output_type": "execute_result"
    }
   ],
   "source": [
    "xs = [1,4,6,4,1,5,10]\n",
    "xs_sublist = xs[2:5]\n",
    "xs_sublist"
   ]
  },
  {
   "cell_type": "markdown",
   "metadata": {},
   "source": [
    "We can find the location of an element in the original list using its location in the sublist and the location of the sublist in the original list: "
   ]
  },
  {
   "cell_type": "code",
   "execution_count": 31,
   "metadata": {},
   "outputs": [
    {
     "name": "stdout",
     "output_type": "stream",
     "text": [
      "6\n",
      "6\n"
     ]
    }
   ],
   "source": [
    "# fetch the element 6: \n",
    "print xs_sublist[0]\n",
    "print xs[2+0]"
   ]
  },
  {
   "cell_type": "markdown",
   "metadata": {},
   "source": [
    "Now, we are ready to re-implement `sort`:"
   ]
  },
  {
   "cell_type": "code",
   "execution_count": 38,
   "metadata": {},
   "outputs": [
    {
     "data": {
      "text/plain": [
       "[15, 8, 7, 2, -1]"
      ]
     },
     "execution_count": 38,
     "metadata": {},
     "output_type": "execute_result"
    }
   ],
   "source": [
    "def sort(xs):\n",
    "    for i in range(len(xs)):\n",
    "        # notice how we correct the index argmax returns:\n",
    "        swap(xs, i + argmax(xs[i:]), i)\n",
    "    return xs\n",
    "\n",
    "sort([2,15,-1,8,7])"
   ]
  },
  {
   "cell_type": "markdown",
   "metadata": {},
   "source": [
    "**Remark:** We didn't deal with empty lists in our code. We probably should. "
   ]
  },
  {
   "cell_type": "markdown",
   "metadata": {},
   "source": [
    "# Complexity"
   ]
  },
  {
   "cell_type": "markdown",
   "metadata": {},
   "source": [
    "If I run `sort(xs)` on a list `xs` of length $n$. How many operations are done by Python? \n",
    "\n",
    "If we look through the code, we can see that we loop through the list once, and for each time we loop through, we loop through the part from `xs[i]` to `xs[n-1]`, where `n` is the list length. And then we do a few operations for swapping etc. All in all, it is safe to say that we do less than \n",
    "$$20\\frac{n(n+1)}{2} = 10n^2 + 10n$$\n",
    "operations. \n",
    "\n",
    "As $n$ becomes large, $n^2$ is clearly much much bigger than $n$, and the factor of $10$ is not that interesting, since it's not the real source of growth in the amount of time it will take. \n",
    "\n",
    "So we say the algorithm takes time of $\\operatorname{O}(n^2)$. \n",
    "\n",
    "Officially, let us denote by $T(n)$ the longest number of steps that the algorithm takes on a list of length $n$, so $T: \\mathbb{N} \\rightarrow \\mathbb{N}$ is function called the worst-case-time-complexity of the algorithm.\n",
    "$T$ is $\\operatorname{O}(n^k)$ if there is a constant $C$ such that, for large enough $n$, we have:\n",
    "$$T(n) < Cn^k$$"
   ]
  },
  {
   "cell_type": "markdown",
   "metadata": {},
   "source": [
    "Conclusion: the running time of the selection sort algorithm is (for large $n$) less than $Cn^2$, so we say it's an $\\operatorname{O}(n^2)$ algorithm. \n",
    "\n",
    "By the way, the best sorting algorithm is $\\operatorname{O}(n\\log n)$."
   ]
  },
  {
   "cell_type": "markdown",
   "metadata": {},
   "source": [
    "# Questions and exercises\n",
    "\n",
    "* What is the worst-case complexity of finding the maximum of a list?\n",
    "* [Insertion sort](https://en.wikipedia.org/wiki/Insertion_sort). Code up the following sorting algorithm: take a list `xs`, make a new list `ys = []`. For each element `x` in `xs`, insert `x` into `ys` in a way so that `ys` stays sorted. e.g. if `ys = [10,8,4,1]` and we are inserting `x = 5`, `ys` will be `[10,8,5,4,1]`. (you can use `ys.insert(place, new_element)` if you want or write it yourself) \n",
    "* What is the worst-case complexity of insertion-sort?"
   ]
  },
  {
   "cell_type": "code",
   "execution_count": null,
   "metadata": {
    "collapsed": true
   },
   "outputs": [],
   "source": []
  }
 ],
 "metadata": {
  "kernelspec": {
   "display_name": "Python 2",
   "language": "python",
   "name": "python2"
  },
  "language_info": {
   "codemirror_mode": {
    "name": "ipython",
    "version": 2
   },
   "file_extension": ".py",
   "mimetype": "text/x-python",
   "name": "python",
   "nbconvert_exporter": "python",
   "pygments_lexer": "ipython2",
   "version": "2.7.14"
  }
 },
 "nbformat": 4,
 "nbformat_minor": 2
}
