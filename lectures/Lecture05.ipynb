{
 "cells": [
  {
   "cell_type": "markdown",
   "metadata": {},
   "source": [
    "# How to read these lecture notes\n",
    "\n",
    "In the menu in Jupyter, select Kernel -> Restart & Clear Output. Then read through each line, and as you go forward, try to guess what the code will do, before you execute the code cell.  \n",
    "\n",
    "Sometimes, if the task (what's written in the markdown cells/comments) is clear, erase the code I've written and try to write it yourself. (You can always copy paste back from the html version of the notebook)"
   ]
  },
  {
   "cell_type": "markdown",
   "metadata": {},
   "source": [
    "# Warning: Never test for equality of floats\n",
    "\n"
   ]
  },
  {
   "cell_type": "code",
   "execution_count": 1,
   "metadata": {},
   "outputs": [
    {
     "data": {
      "text/plain": [
       "False"
      ]
     },
     "execution_count": 1,
     "metadata": {},
     "output_type": "execute_result"
    }
   ],
   "source": [
    "0.1 + 0.2 == 0.3"
   ]
  },
  {
   "cell_type": "markdown",
   "metadata": {},
   "source": [
    "???? It's because of rounding errors in float operations"
   ]
  },
  {
   "cell_type": "code",
   "execution_count": 2,
   "metadata": {},
   "outputs": [
    {
     "name": "stdout",
     "output_type": "stream",
     "text": [
      "0.3\n"
     ]
    }
   ],
   "source": [
    "print 0.1 + 0.2"
   ]
  },
  {
   "cell_type": "markdown",
   "metadata": {},
   "source": [
    "Can't trust anybody these days!\n",
    "\n",
    "Similarly:\n",
    "$$cos({60^o}) = sin(30^o)  $$\n",
    "but:"
   ]
  },
  {
   "cell_type": "code",
   "execution_count": 3,
   "metadata": {},
   "outputs": [
    {
     "name": "stdout",
     "output_type": "stream",
     "text": [
      "False\n",
      "0.5\n",
      "0.5\n"
     ]
    }
   ],
   "source": [
    "import math\n",
    "print math.cos(math.pi/3) == math.sin(math.pi/6)\n",
    "print math.cos(math.pi/3)\n",
    "print math.sin(math.pi/6)"
   ]
  },
  {
   "cell_type": "markdown",
   "metadata": {},
   "source": [
    "### What you should do instead \n",
    "\n",
    "Check to see if difference is very small:"
   ]
  },
  {
   "cell_type": "code",
   "execution_count": 2,
   "metadata": {},
   "outputs": [
    {
     "data": {
      "text/plain": [
       "True"
      ]
     },
     "execution_count": 2,
     "metadata": {},
     "output_type": "execute_result"
    }
   ],
   "source": [
    "epsilon = 0.0000000001\n",
    "abs(0.3 - (0.1 + 0.2)) < epsilon"
   ]
  },
  {
   "cell_type": "markdown",
   "metadata": {},
   "source": [
    "Let's even make it into a function:"
   ]
  },
  {
   "cell_type": "code",
   "execution_count": 5,
   "metadata": {
    "collapsed": true
   },
   "outputs": [],
   "source": [
    "def are_almost_equal(x,y):\n",
    "    return True if abs(x-y) < 0.00000001 else False"
   ]
  },
  {
   "cell_type": "code",
   "execution_count": 6,
   "metadata": {},
   "outputs": [
    {
     "data": {
      "text/plain": [
       "True"
      ]
     },
     "execution_count": 6,
     "metadata": {},
     "output_type": "execute_result"
    }
   ],
   "source": [
    "are_almost_equal(0.1+0.2, 0.3)"
   ]
  },
  {
   "cell_type": "code",
   "execution_count": 7,
   "metadata": {},
   "outputs": [
    {
     "data": {
      "text/plain": [
       "True"
      ]
     },
     "execution_count": 7,
     "metadata": {},
     "output_type": "execute_result"
    }
   ],
   "source": [
    "are_almost_equal(math.cos(math.pi/3), math.sin(math.pi/6))"
   ]
  },
  {
   "cell_type": "code",
   "execution_count": 8,
   "metadata": {},
   "outputs": [
    {
     "data": {
      "text/plain": [
       "False"
      ]
     },
     "execution_count": 8,
     "metadata": {},
     "output_type": "execute_result"
    }
   ],
   "source": [
    "are_almost_equal(0.1+0.2, 0.300002)"
   ]
  },
  {
   "cell_type": "markdown",
   "metadata": {},
   "source": [
    "# Case study: Remainder of division\n",
    "\n",
    "Division of $a$ by $b$:\n",
    "$$a = qb + r$$\n",
    "Where $r$ is the unique remainder\n",
    "$$ 0 \\leq r < b$$\n",
    "\n",
    "Let's implement the remainder. (Normally we would just use the built-in mod operator: ` 17 % 5 = 2` but we want to see how to do it ourselves)\n",
    "\n",
    "When thinking about problems, you should always work out the algorithm on paper before writing any code.\n",
    "\n",
    "The idea: let's say `a=15`, `b=4`. To find the remainder, I can remove `b` from `a` as many times as I can as long as I don't go below zero. \n",
    "\n",
    "Pseudo-code (not always necessary but helps you think):\n",
    "\n",
    "    start with a,b\n",
    "    as long as a>=b\n",
    "        a <- a - b  (set a to be a-b)\n",
    "    answer is a\n",
    "   \n"
   ]
  },
  {
   "cell_type": "markdown",
   "metadata": {},
   "source": [
    "One way to implement this pseudocode is via `while` loops. To refresh your memory, here is a `while` loop (not related to our case study): "
   ]
  },
  {
   "cell_type": "code",
   "execution_count": 9,
   "metadata": {},
   "outputs": [
    {
     "name": "stdout",
     "output_type": "stream",
     "text": [
      "0\n",
      "1\n",
      "4\n",
      "9\n",
      "16\n",
      "25\n",
      "36\n",
      "49\n",
      "64\n",
      "81\n",
      "100\n"
     ]
    }
   ],
   "source": [
    "x = 0\n",
    "while x <= 10:\n",
    "    print x*x\n",
    "    x = x + 1"
   ]
  },
  {
   "cell_type": "markdown",
   "metadata": {},
   "source": [
    "Now have a go at implementing the remainder after division example. Here's what I did:"
   ]
  },
  {
   "cell_type": "code",
   "execution_count": 10,
   "metadata": {
    "collapsed": true
   },
   "outputs": [],
   "source": [
    "def remainder(a,b):\n",
    "    while a >= b:\n",
    "        a = a - b\n",
    "    return a"
   ]
  },
  {
   "cell_type": "code",
   "execution_count": 11,
   "metadata": {},
   "outputs": [
    {
     "data": {
      "text/plain": [
       "3"
      ]
     },
     "execution_count": 11,
     "metadata": {},
     "output_type": "execute_result"
    }
   ],
   "source": [
    "remainder(15,4)"
   ]
  },
  {
   "cell_type": "markdown",
   "metadata": {},
   "source": [
    "But won't changing `a` during execution change the values of the variables we put in?"
   ]
  },
  {
   "cell_type": "code",
   "execution_count": 12,
   "metadata": {},
   "outputs": [
    {
     "data": {
      "text/plain": [
       "1"
      ]
     },
     "execution_count": 12,
     "metadata": {},
     "output_type": "execute_result"
    }
   ],
   "source": [
    "x = 10\n",
    "y = 3\n",
    "remainder(x,y)"
   ]
  },
  {
   "cell_type": "code",
   "execution_count": 13,
   "metadata": {},
   "outputs": [
    {
     "name": "stdout",
     "output_type": "stream",
     "text": [
      "10 3\n"
     ]
    }
   ],
   "source": [
    "print x, y"
   ]
  },
  {
   "cell_type": "markdown",
   "metadata": {},
   "source": [
    "No, even though `a` in the function was `x`, it was actually a copy of `x` and changing the value didn't change `x`'s value. Just like local variables inside the function, the values of the arguments of the function are copied and not changed. \n",
    "\n",
    "**Advanced note**: We will need to be careful about this in the future when we work with more complicated objects we put in as function arguments.\n",
    "\n",
    "Actually there are several mistakes in out algorithm! Can you find them?"
   ]
  },
  {
   "cell_type": "markdown",
   "metadata": {},
   "source": [
    "First, we could plug in `b=0`, which would cause an infinite loop:"
   ]
  },
  {
   "cell_type": "code",
   "execution_count": 14,
   "metadata": {},
   "outputs": [
    {
     "ename": "KeyboardInterrupt",
     "evalue": "",
     "output_type": "error",
     "traceback": [
      "\u001b[0;31m---------------------------------------------------------------------------\u001b[0m",
      "\u001b[0;31mKeyboardInterrupt\u001b[0m                         Traceback (most recent call last)",
      "\u001b[0;32m<ipython-input-14-bff5bb163242>\u001b[0m in \u001b[0;36m<module>\u001b[0;34m()\u001b[0m\n\u001b[0;32m----> 1\u001b[0;31m \u001b[0mremainder\u001b[0m\u001b[0;34m(\u001b[0m\u001b[0;36m15\u001b[0m\u001b[0;34m,\u001b[0m\u001b[0;36m0\u001b[0m\u001b[0;34m)\u001b[0m\u001b[0;34m\u001b[0m\u001b[0m\n\u001b[0m\u001b[1;32m      2\u001b[0m \u001b[0;31m# loops indefinitely. Press Kernel->Interrupt in the toolbar to interrupt it.\u001b[0m\u001b[0;34m\u001b[0m\u001b[0;34m\u001b[0m\u001b[0m\n",
      "\u001b[0;32m<ipython-input-10-5a04b1076572>\u001b[0m in \u001b[0;36mremainder\u001b[0;34m(a, b)\u001b[0m\n\u001b[1;32m      1\u001b[0m \u001b[0;32mdef\u001b[0m \u001b[0mremainder\u001b[0m\u001b[0;34m(\u001b[0m\u001b[0ma\u001b[0m\u001b[0;34m,\u001b[0m\u001b[0mb\u001b[0m\u001b[0;34m)\u001b[0m\u001b[0;34m:\u001b[0m\u001b[0;34m\u001b[0m\u001b[0m\n\u001b[1;32m      2\u001b[0m     \u001b[0;32mwhile\u001b[0m \u001b[0ma\u001b[0m \u001b[0;34m>=\u001b[0m \u001b[0mb\u001b[0m\u001b[0;34m:\u001b[0m\u001b[0;34m\u001b[0m\u001b[0m\n\u001b[0;32m----> 3\u001b[0;31m         \u001b[0ma\u001b[0m \u001b[0;34m=\u001b[0m \u001b[0ma\u001b[0m \u001b[0;34m-\u001b[0m \u001b[0mb\u001b[0m\u001b[0;34m\u001b[0m\u001b[0m\n\u001b[0m\u001b[1;32m      4\u001b[0m     \u001b[0;32mreturn\u001b[0m \u001b[0ma\u001b[0m\u001b[0;34m\u001b[0m\u001b[0m\n",
      "\u001b[0;31mKeyboardInterrupt\u001b[0m: "
     ]
    }
   ],
   "source": [
    "remainder(15,0)\n",
    "# loops indefinitely. Press Kernel->Interrupt in the toolbar to interrupt it."
   ]
  },
  {
   "cell_type": "markdown",
   "metadata": {},
   "source": [
    "Fix:"
   ]
  },
  {
   "cell_type": "code",
   "execution_count": 15,
   "metadata": {
    "collapsed": true
   },
   "outputs": [],
   "source": [
    "def remainder(a,b):\n",
    "    if b == 0:\n",
    "        print \"ERROR, can't divide by zero\"\n",
    "        return\n",
    "        # alternative: you can do:   return None\n",
    "    while a >= b:\n",
    "        a = a - b\n",
    "    return a"
   ]
  },
  {
   "cell_type": "code",
   "execution_count": 16,
   "metadata": {
    "scrolled": true
   },
   "outputs": [
    {
     "name": "stdout",
     "output_type": "stream",
     "text": [
      "ERROR, can't divide by zero\n"
     ]
    }
   ],
   "source": [
    "remainder(10,0)"
   ]
  },
  {
   "cell_type": "markdown",
   "metadata": {},
   "source": [
    "<br>\n",
    "Actually there are other issues:\n",
    "\n",
    "What if `a<0`? Well, first it doesn't even enter the body of the `while` loop because the condition `a >= b` is `False`. However, even if we altered this expression so that the loop is entered, the code in the body of the loop just isn't right: removing `b` from `a` sends us in the wrong direction. \n",
    "\n",
    "Can we just take absolute values at the beginning? No, because the answer actually changes if you replace `a` by `abs(a)`, for example:\n",
    "$$15 = 3 \\times 4 + 3$$\n",
    "but\n",
    "$$-15 = (-4) \\times 4 + 1$$\n",
    "because, according to the definition, remainders have to be positive. \n",
    "\n",
    "Let's try adding (not subtracting) `b` as many times as it takes to make `a` positive (or zero): "
   ]
  },
  {
   "cell_type": "code",
   "execution_count": 17,
   "metadata": {},
   "outputs": [
    {
     "data": {
      "text/plain": [
       "1"
      ]
     },
     "execution_count": 17,
     "metadata": {},
     "output_type": "execute_result"
    }
   ],
   "source": [
    "-15 + 4 + 4 + 4 + 4"
   ]
  },
  {
   "cell_type": "markdown",
   "metadata": {},
   "source": [
    "Yes, this seems to be the algorithm to compute remainder when `a < 0`. "
   ]
  },
  {
   "cell_type": "markdown",
   "metadata": {},
   "source": [
    "Let's edit our code to handle the negative case `a<0` separately, adding `b` instead of removing it:"
   ]
  },
  {
   "cell_type": "code",
   "execution_count": 18,
   "metadata": {
    "collapsed": true
   },
   "outputs": [],
   "source": [
    "def remainder(a,b):\n",
    "    if b == 0:\n",
    "        print(\"ERRORRR\")\n",
    "    if a >= 0:\n",
    "        while a >= b:\n",
    "            a = a - b\n",
    "    else:\n",
    "        while a < 0: \n",
    "            a = a + b\n",
    "    return a"
   ]
  },
  {
   "cell_type": "code",
   "execution_count": 19,
   "metadata": {},
   "outputs": [
    {
     "data": {
      "text/plain": [
       "1"
      ]
     },
     "execution_count": 19,
     "metadata": {},
     "output_type": "execute_result"
    }
   ],
   "source": [
    "remainder(-15,4)"
   ]
  },
  {
   "cell_type": "code",
   "execution_count": 20,
   "metadata": {},
   "outputs": [
    {
     "data": {
      "text/plain": [
       "3"
      ]
     },
     "execution_count": 20,
     "metadata": {},
     "output_type": "execute_result"
    }
   ],
   "source": [
    "# making sure it still works in the positive case\n",
    "remainder(15,4)"
   ]
  },
  {
   "cell_type": "markdown",
   "metadata": {},
   "source": [
    "What if `b<0`. Actually, the way we wrote down the definiton of the remainder:\n",
    "$$a = qb + r,$$\n",
    "where $r$ is the unique remainder\n",
    "$$ 0 \\leq r < b,$$\n",
    "gives us a problem, because if `b<0`, then there is no number $r$ that satisfies $b > r \\geq 0$. So, let's change the definition:\n",
    "$$a = qb + r$$\n",
    "Where $r$ is the unique remainder\n",
    "$$ 0 \\leq r < | b |$$\n",
    "\n",
    "According to this definition, replacing $b$ by $-b$ won't change the remainder $r$, but it will change the quotient $q$:\n",
    "\n"
   ]
  },
  {
   "cell_type": "code",
   "execution_count": 21,
   "metadata": {},
   "outputs": [
    {
     "name": "stdout",
     "output_type": "stream",
     "text": [
      "-15\n",
      "-15\n"
     ]
    }
   ],
   "source": [
    "a = -15\n",
    "r = 1\n",
    "\n",
    "b = 4\n",
    "q = -4\n",
    "print q*b + r \n",
    "\n",
    "b = -4\n",
    "q = 4\n",
    "print q*(-4) + r "
   ]
  },
  {
   "cell_type": "markdown",
   "metadata": {},
   "source": [
    "So we can change `b` to its absolute value in our function without changing the remainder, and this would handle the negative case. "
   ]
  },
  {
   "cell_type": "code",
   "execution_count": 22,
   "metadata": {
    "collapsed": true
   },
   "outputs": [],
   "source": [
    "def remainder(a,b):\n",
    "    if b == 0:\n",
    "        print \"ERRORRR\"\n",
    "    b = abs(b)\n",
    "    if a >= 0:\n",
    "        while a >= b:\n",
    "            a = a - b\n",
    "    else:\n",
    "        while a < 0: \n",
    "            a = a + b\n",
    "    return a\n",
    "\n"
   ]
  },
  {
   "cell_type": "code",
   "execution_count": 23,
   "metadata": {},
   "outputs": [
    {
     "name": "stdout",
     "output_type": "stream",
     "text": [
      "1\n",
      "1\n"
     ]
    }
   ],
   "source": [
    "print remainder(-15, 4)\n",
    "print remainder(-15, -4)"
   ]
  },
  {
   "cell_type": "code",
   "execution_count": null,
   "metadata": {
    "collapsed": true
   },
   "outputs": [],
   "source": []
  }
 ],
 "metadata": {
  "kernelspec": {
   "display_name": "Python 2",
   "language": "python",
   "name": "python2"
  },
  "language_info": {
   "codemirror_mode": {
    "name": "ipython",
    "version": 2
   },
   "file_extension": ".py",
   "mimetype": "text/x-python",
   "name": "python",
   "nbconvert_exporter": "python",
   "pygments_lexer": "ipython2",
   "version": "2.7.14"
  }
 },
 "nbformat": 4,
 "nbformat_minor": 2
}
