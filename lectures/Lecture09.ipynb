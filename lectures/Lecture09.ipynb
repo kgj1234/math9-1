{
 "cells": [
  {
   "cell_type": "markdown",
   "metadata": {},
   "source": [
    "# Last time\n",
    "* list comprehension\n",
    "* mutable vs immutable\n",
    "\n",
    "# Where we are in the course\n",
    "We are still learning programming basics and working on mathematical examples that illustrate those programming concepts. \n",
    "Don't worry, more serious math is coming :)\n",
    "\n",
    "# Today\n",
    "* review of mutable vs immutable, plus some more funny stuff\n",
    "* sorting"
   ]
  },
  {
   "cell_type": "markdown",
   "metadata": {},
   "source": [
    "# Mutable vs immutable: review\n",
    "The under-the-hood behaviour difference between mutable and immutable objects is very important."
   ]
  },
  {
   "cell_type": "code",
   "execution_count": 2,
   "metadata": {},
   "outputs": [
    {
     "name": "stdout",
     "output_type": "stream",
     "text": [
      "1 1\n",
      "1 999\n"
     ]
    }
   ],
   "source": [
    "x = 1\n",
    "y = x\n",
    "print x, y\n",
    "y = 999\n",
    "print x, y\n"
   ]
  },
  {
   "cell_type": "markdown",
   "metadata": {},
   "source": [
    "`x` didn't change. \n",
    "\n",
    "Now try doing a similar thing for lists:"
   ]
  },
  {
   "cell_type": "code",
   "execution_count": 3,
   "metadata": {},
   "outputs": [
    {
     "name": "stdout",
     "output_type": "stream",
     "text": [
      "[1, 2, 3] [1, 2, 3]\n",
      "[999, 2, 3] [999, 2, 3]\n"
     ]
    }
   ],
   "source": [
    "x = [1,2,3]\n",
    "y = x\n",
    "print x, y\n",
    "y[0] = 999\n",
    "print x, y"
   ]
  },
  {
   "cell_type": "markdown",
   "metadata": {},
   "source": [
    "They both change. We explained the reason why: it's because for lists and other **mutable** objects, running `x = [1,2,3]` creates a list `[1,2,3]` somewhere in memory, and stores, in `x` the address of that spot. Issuing the command `y=x`, causes `x` and `y` to point to the same object. So changing `y[0]` changes `x[0]` as well. \n",
    "\n",
    "The same behavior is seen in function arguments too:"
   ]
  },
  {
   "cell_type": "code",
   "execution_count": 5,
   "metadata": {
    "collapsed": true
   },
   "outputs": [],
   "source": [
    "def f(x):\n",
    "    x += 1\n",
    "    return x"
   ]
  },
  {
   "cell_type": "code",
   "execution_count": 6,
   "metadata": {},
   "outputs": [
    {
     "name": "stdout",
     "output_type": "stream",
     "text": [
      "1 0\n"
     ]
    }
   ],
   "source": [
    "x = 0\n",
    "print f(x), x"
   ]
  },
  {
   "cell_type": "markdown",
   "metadata": {},
   "source": [
    "The value of `x` didn't change because a copy of `x` was made inside the function. \n",
    "\n",
    "But for lists:"
   ]
  },
  {
   "cell_type": "code",
   "execution_count": 7,
   "metadata": {
    "collapsed": true
   },
   "outputs": [],
   "source": [
    "def f(zs):\n",
    "    zs[0] = 999\n",
    "    return zs"
   ]
  },
  {
   "cell_type": "code",
   "execution_count": 9,
   "metadata": {},
   "outputs": [
    {
     "name": "stdout",
     "output_type": "stream",
     "text": [
      "[999, 2, 3] [999, 2, 3]\n"
     ]
    }
   ],
   "source": [
    "xs = [1,2,3]\n",
    "print f(xs), xs"
   ]
  },
  {
   "cell_type": "markdown",
   "metadata": {},
   "source": [
    "... changing `x[0]` inside the function changed it for good. "
   ]
  },
  {
   "cell_type": "markdown",
   "metadata": {},
   "source": [
    "### More funny stuff"
   ]
  },
  {
   "cell_type": "code",
   "execution_count": 10,
   "metadata": {
    "collapsed": true
   },
   "outputs": [],
   "source": [
    "def f(zs):\n",
    "    zs = [1,2,3]\n",
    "    return zs"
   ]
  },
  {
   "cell_type": "code",
   "execution_count": 11,
   "metadata": {},
   "outputs": [
    {
     "data": {
      "text/plain": [
       "[1, 2, 3]"
      ]
     },
     "execution_count": 11,
     "metadata": {},
     "output_type": "execute_result"
    }
   ],
   "source": [
    "xs = [9,9,9,9]\n",
    "f(xs)"
   ]
  },
  {
   "cell_type": "markdown",
   "metadata": {},
   "source": [
    "`xs`'s was changed inside the function right? So if I print `xs`, we'd expect it to have changed..."
   ]
  },
  {
   "cell_type": "code",
   "execution_count": 13,
   "metadata": {},
   "outputs": [
    {
     "data": {
      "text/plain": [
       "[9, 9, 9, 9]"
      ]
     },
     "execution_count": 13,
     "metadata": {},
     "output_type": "execute_result"
    }
   ],
   "source": [
    "xs"
   ]
  },
  {
   "cell_type": "markdown",
   "metadata": {},
   "source": [
    "Huh? It hasn't changed at all! What is going on?\n",
    "\n",
    "In the function, `zs` is a local variable, and a copy of `xs`, but not a copy of the list that `xs` is pointing to. It's a copy of the address where the list lives. \n",
    "\n",
    "This is why we were able to change `xs` when we did `zs[0]=999` before, because a change in the list that `zs` and `xs` are both ponting to was made. \n",
    "\n",
    "Now, if we say, `zs=[1,2,3]`, then a totally new list `[1,2,3]` is created, and `zs` is now pointing to it. But `xs` is still pointing to what it was pointing to before, which was `[9,9,9,9]` in this case. "
   ]
  },
  {
   "cell_type": "markdown",
   "metadata": {},
   "source": [
    "# Sorting\n",
    "\n",
    "We want to write a function `sort` that will sort a list of numbers:\n",
    "\n",
    "e.g. `sort([2,15,-1,8,7])` should return `[15,8,7,2,-1]`\n",
    "\n",
    "Idea for algorithm:\n",
    "Move the maximum element to the front of the list, then move the maximum of the rest to the front of the rest, ...\n",
    "\n",
    "Here is an example of this sort algorithm sorting five elements: \n",
    "\n",
    "```\n",
    "Sorted sublist == ( )\n",
    "Unsorted sublist == (11, 25, 12, 22, 64)\n",
    "Least element in unsorted list == 11\n",
    "\n",
    "Sorted sublist ==  (11)\n",
    "Unsorted sublist == (25, 12, 22, 64)\n",
    "Least element in unsorted list == 12\n",
    "\n",
    "Sorted sublist == (11, 12)\n",
    "Unsorted sublist == (25, 22, 64)\n",
    "Least element in unsorted list == 22\n",
    "\n",
    "Sorted sublist == (11, 12, 22)\n",
    "Unsorted sublist == (25, 64)\n",
    "Least element in unsorted list == 25\n",
    "\n",
    "Sorted sublist == (11, 12, 22, 25)\n",
    "Unsorted sublist == (64)\n",
    "Least element in unsorted list == 64\n",
    "\n",
    "Sorted sublist == (11, 12, 22, 25, 64)\n",
    "Unsorted sublist == ( )\n",
    "```\n",
    "We don't actually need two lists. We can get away with just one by swapping elements. Specifically, the algorithm proceeds by finding the largest element in the unsorted sublist, exchanging (swapping) it with the leftmost unsorted element (putting it in sorted order), and moving the sublist boundaries one element to the right:\n",
    "\n",
    "```\n",
    "N = length of input list, xs\n",
    "for i=0,...,N-1\n",
    "    mloc = the location of the maximum of xs from i to N-1\n",
    "    swap xs[mloc] and xs[i]\n",
    "```\n",
    "\n",
    "This algorithm is called [selection sort](https://en.wikipedia.org/wiki/Selection_sort). It get's its name from the fact that it repeatedly selects the next-smallest element and swaps it into place. It is instructive to code it up, but be aware that there are much better algorithms like *merge sort*, *quick-sort*. (We will clarify what is meant by 'better' later in the course.)\n",
    "\n",
    "Let us begin by coding up `location of the maximum of xs from i to N-1`:\n",
    "    "
   ]
  },
  {
   "cell_type": "code",
   "execution_count": 16,
   "metadata": {
    "collapsed": true
   },
   "outputs": [],
   "source": [
    "def argmax(xs, start, end):  \n",
    "    '''returns the index of the max of a sub-list'''\n",
    "\n",
    "    current_max = xs[start]\n",
    "    current_max_location = start\n",
    "    for i in range(start, end):\n",
    "        if current_max < xs[i]:\n",
    "            current_max = xs[i]\n",
    "            current_max_location = i\n",
    "    return current_max_location            "
   ]
  },
  {
   "cell_type": "markdown",
   "metadata": {},
   "source": [
    "In fact, what we have just coded up is the [argmax](https://en.wikipedia.org/wiki/Arg_max) function from mathematics (which is why I called our function by the same name)."
   ]
  },
  {
   "cell_type": "code",
   "execution_count": 17,
   "metadata": {},
   "outputs": [
    {
     "data": {
      "text/plain": [
       "4"
      ]
     },
     "execution_count": 17,
     "metadata": {},
     "output_type": "execute_result"
    }
   ],
   "source": [
    "# let's test:\n",
    "argmax([1,2,3,4,5],0,5)"
   ]
  },
  {
   "cell_type": "code",
   "execution_count": 18,
   "metadata": {},
   "outputs": [
    {
     "data": {
      "text/plain": [
       "0"
      ]
     },
     "execution_count": 18,
     "metadata": {},
     "output_type": "execute_result"
    }
   ],
   "source": [
    "argmax([6,2,3,4,5],0,2)"
   ]
  },
  {
   "cell_type": "code",
   "execution_count": 19,
   "metadata": {},
   "outputs": [
    {
     "data": {
      "text/plain": [
       "2"
      ]
     },
     "execution_count": 19,
     "metadata": {},
     "output_type": "execute_result"
    }
   ],
   "source": [
    "argmax([6,2,3,4,5],2,3)"
   ]
  },
  {
   "cell_type": "markdown",
   "metadata": {},
   "source": [
    "During the sorting, we'll also need to swap things. Let's make that into a function too:"
   ]
  },
  {
   "cell_type": "code",
   "execution_count": 21,
   "metadata": {
    "scrolled": true
   },
   "outputs": [
    {
     "name": "stdout",
     "output_type": "stream",
     "text": [
      "[2, 1, 3]\n"
     ]
    }
   ],
   "source": [
    "# note that this swaps *in place*\n",
    "def swap(xs, i, j):\n",
    "    dum = xs[i]\n",
    "    xs[i] = xs[j]\n",
    "    xs[j] = dum\n",
    "    \n",
    "# let's test:\n",
    "xs = [1,2,3]\n",
    "swap(xs,0,1)\n",
    "print xs"
   ]
  },
  {
   "cell_type": "markdown",
   "metadata": {},
   "source": [
    "Finally, we are ready to implement selection sort:"
   ]
  },
  {
   "cell_type": "code",
   "execution_count": 22,
   "metadata": {
    "collapsed": true
   },
   "outputs": [],
   "source": [
    "def sort(xs):\n",
    "    N = len(xs)\n",
    "    for i in range(N):\n",
    "        swap(xs, argmax(xs,i,N), i)\n",
    "    return xs"
   ]
  },
  {
   "cell_type": "code",
   "execution_count": 24,
   "metadata": {},
   "outputs": [
    {
     "data": {
      "text/plain": [
       "[15, 8, 7, 2, -1]"
      ]
     },
     "execution_count": 24,
     "metadata": {},
     "output_type": "execute_result"
    }
   ],
   "source": [
    "xs = [2,15,-1,8,7]\n",
    "sort(xs)"
   ]
  },
  {
   "cell_type": "markdown",
   "metadata": {},
   "source": [
    "Note that we could have written the same algorithm in one go like this:"
   ]
  },
  {
   "cell_type": "code",
   "execution_count": 25,
   "metadata": {},
   "outputs": [
    {
     "data": {
      "text/plain": [
       "[15, 8, 7, 2, -1]"
      ]
     },
     "execution_count": 25,
     "metadata": {},
     "output_type": "execute_result"
    }
   ],
   "source": [
    "def sort_difficult_to_read_and_debug(xs):\n",
    "    N = len(xs)\n",
    "    for i in range(N):\n",
    "        current_max = xs[i]\n",
    "        current_max_location = i\n",
    "        for j in range(i, N):\n",
    "            if current_max < xs[j]:\n",
    "                current_max = xs[j]\n",
    "                current_max_location = j\n",
    "        dum = xs[i]\n",
    "        xs[i] = xs[current_max_location]\n",
    "        xs[current_max_location] = dum\n",
    "    return xs\n",
    "\n",
    "# test\n",
    "xs = [2, 15 ,-1 ,8 ,7]\n",
    "sort_difficult_to_read_and_debug(xs)"
   ]
  },
  {
   "cell_type": "markdown",
   "metadata": {},
   "source": [
    "But it is harder to read, and more importantly, there are no parts (functions) that you can test independently to make sure they are ok. So it's better to break the problem down to smaller parts (functions). "
   ]
  },
  {
   "cell_type": "markdown",
   "metadata": {},
   "source": [
    "Next time, we will make some improvements to this code. "
   ]
  },
  {
   "cell_type": "markdown",
   "metadata": {},
   "source": [
    "## Questions and exercises:\n",
    "\n",
    "* Change the code above so that it deals with empty lists.\n",
    "* [Insertion sort](https://en.wikipedia.org/wiki/Insertion_sort). Code up the following sorting algorithm: take a list `xs`, make a new list `ys = []`. For each element `x` in `xs`, insert `x` into `ys` in a way so that `ys` stays sorted. e.g. if `ys = [10,8,4,1]` and we are inserting `x = 5`, `ys` will be `[10,8,5,4,1]`. (you can use `ys.insert(place, new_element)` if you want or write it yourself) \n",
    "* [Bubble-sort](https://en.wikipedia.org/wiki/Bubble_sort): start with a list xs. Go through xs from start to finish comparing two consecutive items at a time. If the items are out of order, swap them. Repeat until you can go through the entire list without making a single swap. Code bubble-sort. "
   ]
  },
  {
   "cell_type": "code",
   "execution_count": null,
   "metadata": {
    "collapsed": true
   },
   "outputs": [],
   "source": []
  }
 ],
 "metadata": {
  "kernelspec": {
   "display_name": "Python 2",
   "language": "python",
   "name": "python2"
  },
  "language_info": {
   "codemirror_mode": {
    "name": "ipython",
    "version": 2
   },
   "file_extension": ".py",
   "mimetype": "text/x-python",
   "name": "python",
   "nbconvert_exporter": "python",
   "pygments_lexer": "ipython2",
   "version": "2.7.14"
  }
 },
 "nbformat": 4,
 "nbformat_minor": 2
}
