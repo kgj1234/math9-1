{
 "cells": [
  {
   "cell_type": "markdown",
   "metadata": {},
   "source": [
    "# While Loops Review"
   ]
  },
  {
   "cell_type": "code",
   "execution_count": 2,
   "metadata": {},
   "outputs": [
    {
     "name": "stdout",
     "output_type": "stream",
     "text": [
      "1\n",
      "1\n",
      "1\n",
      "1\n"
     ]
    }
   ],
   "source": [
    "number=2\n",
    "while number<=5:\n",
    "    print(1)\n",
    "    number=number+1"
   ]
  },
  {
   "cell_type": "markdown",
   "metadata": {},
   "source": [
    "# Problems"
   ]
  },
  {
   "cell_type": "markdown",
   "metadata": {},
   "source": [
    "## Problem 1: find the sum of all the multiples of 3 or 5 below 1000"
   ]
  },
  {
   "cell_type": "code",
   "execution_count": 3,
   "metadata": {},
   "outputs": [
    {
     "name": "stdout",
     "output_type": "stream",
     "text": [
      "233168\n"
     ]
    }
   ],
   "source": [
    "n=1\n",
    "total=0\n",
    "while n<1000:\n",
    "    if (n%3==0 or n%5==0):\n",
    "        total=total+n\n",
    "    n=n+1\n",
    "print(total)"
   ]
  },
  {
   "cell_type": "markdown",
   "metadata": {},
   "source": [
    "## Find the sum of the even fibonnaci numbers less than 4000000"
   ]
  },
  {
   "cell_type": "markdown",
   "metadata": {},
   "source": [
    "1,1,2,3,5,8,13,21"
   ]
  },
  {
   "cell_type": "markdown",
   "metadata": {},
   "source": [
    "iter1=1\n",
    "iter2=1\n",
    "To find the next fibonnaci number\n",
    "#3rd=iter1+iter2\n",
    "#iter2,iter1=iter2+iter1,iter2\n",
    "total=0\n",
    "while iter2 is less than four million\n",
    "    if iter2 is divisible by 2\n",
    "        add iter2 to total\n",
    "    iter2,iter1=iter2+iter1,iter2"
   ]
  },
  {
   "cell_type": "code",
   "execution_count": 4,
   "metadata": {},
   "outputs": [
    {
     "name": "stdout",
     "output_type": "stream",
     "text": [
      "4613732\n"
     ]
    }
   ],
   "source": [
    "iter1=1\n",
    "iter2=1\n",
    "total=0\n",
    "while iter2<4000000:\n",
    "    if iter2%2==0:\n",
    "        total=total+iter2\n",
    "    iter2,iter1=iter2+iter1,iter2\n",
    "print(total)"
   ]
  },
  {
   "cell_type": "code",
   "execution_count": null,
   "metadata": {
    "collapsed": true
   },
   "outputs": [],
   "source": []
  }
 ],
 "metadata": {
  "kernelspec": {
   "display_name": "Python 3",
   "language": "python",
   "name": "python3"
  },
  "language_info": {
   "codemirror_mode": {
    "name": "ipython",
    "version": 3
   },
   "file_extension": ".py",
   "mimetype": "text/x-python",
   "name": "python",
   "nbconvert_exporter": "python",
   "pygments_lexer": "ipython3",
   "version": "3.6.2"
  }
 },
 "nbformat": 4,
 "nbformat_minor": 2
}
