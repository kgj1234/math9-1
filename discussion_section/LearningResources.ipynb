{
 "cells": [
  {
   "cell_type": "markdown",
   "metadata": {},
   "source": [
    "# Interesting Learning Resources"
   ]
  },
  {
   "cell_type": "markdown",
   "metadata": {},
   "source": [
    "Here I will list some learning resources that may interest those who want to learn more about python, and those who may want to practice what they've learned.\n",
    "\n",
    "Project Euler: This website contains a repository of math oriented programming challenges, starting simple, and then increasing in difficulty. There is also a commmunity where you can discuss problems and solutions. https://projecteuler.net/\n",
    "\n",
    "Code Academy: This website features interactive learning to code lessons and exercises for many programming languages, including python. https://www.codecademy.com/\n",
    "\n",
    "For those who want to go beyond what is taught in class, or want to continue learning on their own after the class is over, udemy and udacity are both websites with many intermediate and advanced level courses using python. \n",
    "\n"
   ]
  }
 ],
 "metadata": {
  "anaconda-cloud": {},
  "kernelspec": {
   "display_name": "Python [default]",
   "language": "python",
   "name": "python3"
  },
  "language_info": {
   "codemirror_mode": {
    "name": "ipython",
    "version": 3
   },
   "file_extension": ".py",
   "mimetype": "text/x-python",
   "name": "python",
   "nbconvert_exporter": "python",
   "pygments_lexer": "ipython3",
   "version": "3.5.2"
  }
 },
 "nbformat": 4,
 "nbformat_minor": 1
}
