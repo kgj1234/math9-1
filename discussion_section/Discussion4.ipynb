{
 "cells": [
  {
   "cell_type": "markdown",
   "metadata": {},
   "source": [
    "# Lab Problem: An approximation for $\\pi/4$ is given by $1-1/3+1/5-1/7+1/9-...$. Approximate $\\pi$ using the first 1000 terms of the series, and then give the error between your approximation of $\\pi/4$, and the numerical value given by the math or numpy libraries  "
   ]
  },
  {
   "cell_type": "code",
   "execution_count": 4,
   "metadata": {
    "collapsed": false
   },
   "outputs": [
    {
     "name": "stdout",
     "output_type": "stream",
     "text": [
      "0.7851481634599485\n",
      "0.00024999993749974525\n"
     ]
    }
   ],
   "source": [
    "#Solution\n",
    "counter=0\n",
    "total=0\n",
    "while counter<1000:\n",
    "    total=total+(-1)**counter/(1+2*counter)\n",
    "    counter=counter+1\n",
    "print(total)\n",
    "import numpy as np\n",
    "print(abs(np.pi/4-total))"
   ]
  },
  {
   "cell_type": "markdown",
   "metadata": {},
   "source": [
    "# More Prime Fun"
   ]
  },
  {
   "cell_type": "markdown",
   "metadata": {},
   "source": [
    "Let us find an efficient way to determine the prime factorization of a number. The naive way of doing this, is given a number $n$, to go through each number between $2$ and $\\sqrt{n}$, and determine if it is a factor of $n$, whether it is prime, and then whether some power of this prime factor divides $n$. This is a terrible way to approach the problem."
   ]
  },
  {
   "cell_type": "markdown",
   "metadata": {},
   "source": [
    "Instead, consider the following: take a number $n$, and then start from $2$, and determine whether $2$ is a factor of $n$. If it is, print $2$, and then divide $n/2$ to get $n_1$. Then $n=n_1*2$, so the prime factorization of $n_1$ is the same as that of $n$, excluding a $2$. If $2$ does not divide $n$, go to $3$ and repeat the process. If $2$ did divide $n$, determine whether $2$ divides $n_1$. If so, repeat the process, and continue. This process does not allow any  of the numbers we print to be multiples of any other number, and therefore, they must be prime. Also, if we multiply the output of all of them together, we obtain the original number."
   ]
  },
  {
   "cell_type": "code",
   "execution_count": 11,
   "metadata": {
    "collapsed": false
   },
   "outputs": [
    {
     "name": "stdout",
     "output_type": "stream",
     "text": [
      "53\n",
      "754717\n"
     ]
    }
   ],
   "source": [
    "counter=2\n",
    "number=40000001\n",
    "while number>1:\n",
    "    if number%counter==0:\n",
    "        print(counter)\n",
    "        number=number/counter\n",
    "    else:\n",
    "        counter=counter+1\n",
    "        \n",
    "        \n",
    "        \n",
    "        \n",
    "        \n",
    "        "
   ]
  },
  {
   "cell_type": "markdown",
   "metadata": {},
   "source": [
    "We can at least slightly increase efficiency, by, after $2$, only checking the odd numbers. We'll also turn it into a function."
   ]
  },
  {
   "cell_type": "code",
   "execution_count": 14,
   "metadata": {
    "collapsed": false
   },
   "outputs": [
    {
     "name": "stdout",
     "output_type": "stream",
     "text": [
      "3\n",
      "7\n",
      "7\n",
      "17\n",
      "24019\n"
     ]
    }
   ],
   "source": [
    "def primeFactor(number):\n",
    "    counter=2\n",
    "\n",
    "    while number>1:\n",
    "        if number%counter==0:\n",
    "            print(counter)\n",
    "            number=number/counter\n",
    "        elif counter>2:\n",
    "            counter=counter+2\n",
    "        else:\n",
    "            counter=counter+1\n",
    "primeFactor(60023481)    "
   ]
  },
  {
   "cell_type": "markdown",
   "metadata": {},
   "source": [
    "# Euclid's Algorithm"
   ]
  },
  {
   "cell_type": "markdown",
   "metadata": {},
   "source": [
    "Input: a,b positive integers<br>\n",
    "Ouput: gcd(a,b), the greatest common divisor\n",
    "\n",
    "Algorithm:\n",
    "\n",
    "If b>a, swap a and b   \n",
    "\n",
    "while b is not 0 do\n",
    "\n",
    "    r <- a % b, the remainder of a divided by b\n",
    "    \n",
    "    a <- b\n",
    "    \n",
    "    b <- r\n",
    "    \n",
    "a is the GCD"
   ]
  },
  {
   "cell_type": "markdown",
   "metadata": {},
   "source": [
    "## Write code that implements Euclid's algorithm. "
   ]
  },
  {
   "cell_type": "code",
   "execution_count": 13,
   "metadata": {
    "collapsed": true
   },
   "outputs": [],
   "source": [
    "def gcd(a,b):\n",
    "    if b>a:\n",
    "        dum = a\n",
    "        a = b\n",
    "        b = dum\n",
    "    while b != 0:\n",
    "        r = a % b\n",
    "        a = b\n",
    "        b = r\n",
    "    return a"
   ]
  },
  {
   "cell_type": "code",
   "execution_count": null,
   "metadata": {
    "collapsed": true
   },
   "outputs": [],
   "source": []
  }
 ],
 "metadata": {
  "kernelspec": {
   "display_name": "Python [default]",
   "language": "python",
   "name": "python3"
  },
  "language_info": {
   "codemirror_mode": {
    "name": "ipython",
    "version": 3
   },
   "file_extension": ".py",
   "mimetype": "text/x-python",
   "name": "python",
   "nbconvert_exporter": "python",
   "pygments_lexer": "ipython3",
   "version": "3.5.2"
  }
 },
 "nbformat": 4,
 "nbformat_minor": 1
}
